{
 "cells": [
  {
   "cell_type": "markdown",
   "metadata": {},
   "source": [
    "# REU-CFS: Day 1, Ex D.\n",
    "\n",
    "_Burton Rosenberg, University of Miami_\n",
    "\n",
    "_Monday, 17 May 2021_\n",
    "\n",
    "------\n",
    "\n",
    "This is a first program in Python. Examples are given then an exercise.\n",
    "\n",
    "------\n"
   ]
  },
  {
   "cell_type": "markdown",
   "metadata": {},
   "source": [
    "## Example D\n",
    "\n",
    "__Topics__\n",
    "\n",
    "1. The syntax of the class block (indent, with a :)\n",
    "1. Style note: Class names are Capitalized, maybe CamelCase\n",
    "1. The init function in a  class block\n",
    "1. The magic of _self_\n",
    "1. Instancing a class \n",
    "1. Name space of a class (or why cdr.cdr is not read as cdr.cdr)"
   ]
  },
  {
   "cell_type": "code",
   "execution_count": 20,
   "metadata": {},
   "outputs": [
    {
     "name": "stdout",
     "output_type": "stream",
     "text": [
      "car\n",
      "and\n",
      "cdr\n",
      "\n",
      "cdr\n",
      "or\n",
      "car\n",
      "\n",
      "car\n",
      "and\n",
      "cdr\n"
     ]
    }
   ],
   "source": [
    "class CDR_OOP:\n",
    "    \n",
    "    def __init__(self,thing_to_cdr):\n",
    "        self.thing_to_cdr = thing_to_cdr\n",
    "        \n",
    "    def cdr_aux(self,cdrit):\n",
    "        if len(cdrit)>0:\n",
    "            print(cdrit[0])\n",
    "            self.cdr_aux(cdrit[1:])\n",
    "            \n",
    "    def cdr(self):\n",
    "        self.cdr_aux(self.thing_to_cdr)\n",
    "        \n",
    "cdr = CDR_OOP(['car','and','cdr'])\n",
    "cdr.cdr()\n",
    "print()\n",
    "nay_sayer = CDR_OOP(['cdr','or','car'])\n",
    "nay_sayer.cdr()\n",
    "print()\n",
    "cdr.cdr()"
   ]
  },
  {
   "cell_type": "markdown",
   "metadata": {},
   "source": [
    "## Exercise D"
   ]
  },
  {
   "cell_type": "code",
   "execution_count": 2,
   "metadata": {},
   "outputs": [
    {
     "name": "stdout",
     "output_type": "stream",
     "text": [
      "10\n",
      "9\n",
      "8\n",
      "7\n",
      "6\n",
      "5\n",
      "4\n",
      "3\n",
      "2\n",
      "1\n",
      "BOOM!\n"
     ]
    }
   ],
   "source": [
    "class Boom_OOP:\n",
    "    \n",
    "    def __init__(self,n):\n",
    "        self.n = n\n",
    "\n",
    "    def boom(self):\n",
    "        for i in range(self.n, 0, -1):\n",
    "            print(i)\n",
    "        print(\"BOOM!\")\n",
    "    \n",
    "\"\"\"\n",
    "should print:\n",
    "10\n",
    "9\n",
    "8\n",
    "7\n",
    "6\n",
    "5\n",
    "4\n",
    "3\n",
    "2\n",
    "1\n",
    "BOOM!\n",
    "\"\"\"\n",
    "    \n",
    "boom = Boom_OOP(10)\n",
    "boom.boom()"
   ]
  },
  {
   "cell_type": "code",
   "execution_count": 8,
   "metadata": {},
   "outputs": [
    {
     "name": "stdout",
     "output_type": "stream",
     "text": [
      "correct!\n"
     ]
    }
   ],
   "source": [
    "\n",
    "# fix my broken code\n",
    "\n",
    "def selection_sort(a):\n",
    "    \"\"\"\n",
    "    selection sort the list a\n",
    "    \"\"\"\n",
    "    for i in range(len(a)-1):\n",
    "        # i is where to place the smallest number amount [i:]\n",
    "        min_index = i\n",
    "        for j in range(i+1, len(a)):\n",
    "            if a[j] < a[min_index]:\n",
    "                min_index = j\n",
    "        if (min_index != i):\n",
    "            a[i], a[min_index] = a[min_index], a[i]\n",
    "    return a\n",
    "\n",
    "def test_selection_sort():\n",
    "    test = [(13*i)%97 for i in range(84)]\n",
    "    ans = sorted(test[:])\n",
    "    selection_sort(test)\n",
    "    if test == ans:\n",
    "        print(\"correct!\")\n",
    "    else:\n",
    "        print(\"broken!\")   \n",
    "\n",
    "test_selection_sort()"
   ]
  },
  {
   "cell_type": "code",
   "execution_count": null,
   "metadata": {},
   "outputs": [],
   "source": [
    "def insertion_sort(c):\n",
    "    if len(c)== 0 : return c\n",
    "    \n",
    "    for i in range(len(c)-1):\n",
    "        for j in range(i,-1,-1):\n",
    "            \n",
    "    return c\n",
    "\n",
    "def test_insertion_sort():\n",
    "    test = [(13*i)%97 for i in range(84)]\n",
    "    ans = sorted(test[:])\n",
    "    insertion_sort(test)\n",
    "    if test == ans:\n",
    "        print(\"correct!\")\n",
    "    else:\n",
    "        print(\"broken!\")   \n",
    "\n",
    "test_insertion_sort()"
   ]
  }
 ],
 "metadata": {
  "kernelspec": {
   "display_name": "Python 3",
   "language": "python",
   "name": "python3"
  },
  "language_info": {
   "codemirror_mode": {
    "name": "ipython",
    "version": 3
   },
   "file_extension": ".py",
   "mimetype": "text/x-python",
   "name": "python",
   "nbconvert_exporter": "python",
   "pygments_lexer": "ipython3",
   "version": "3.8.5"
  }
 },
 "nbformat": 4,
 "nbformat_minor": 4
}
